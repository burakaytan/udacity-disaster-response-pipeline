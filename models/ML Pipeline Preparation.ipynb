{
 "cells": [
  {
   "cell_type": "markdown",
   "metadata": {},
   "source": [
    "# ML Pipeline Preparation\n",
    "Follow the instructions below to help you create your ML pipeline.\n",
    "### 1. Import libraries and load data from database.\n",
    "- Import Python libraries\n",
    "- Load dataset from database with [`read_sql_table`](https://pandas.pydata.org/pandas-docs/stable/generated/pandas.read_sql_table.html)\n",
    "- Define feature and target variables X and Y"
   ]
  },
  {
   "cell_type": "code",
   "execution_count": 34,
   "metadata": {},
   "outputs": [
    {
     "name": "stdout",
     "output_type": "stream",
     "text": [
      "[nltk_data] Downloading package punkt to /root/nltk_data...\n",
      "[nltk_data]   Package punkt is already up-to-date!\n",
      "[nltk_data] Downloading package wordnet to /root/nltk_data...\n",
      "[nltk_data]   Package wordnet is already up-to-date!\n",
      "[nltk_data] Downloading package averaged_perceptron_tagger to\n",
      "[nltk_data]     /root/nltk_data...\n",
      "[nltk_data]   Package averaged_perceptron_tagger is already up-to-\n",
      "[nltk_data]       date!\n",
      "[nltk_data] Downloading package stopwords to /root/nltk_data...\n",
      "[nltk_data]   Package stopwords is already up-to-date!\n"
     ]
    },
    {
     "data": {
      "text/plain": [
       "True"
      ]
     },
     "execution_count": 34,
     "metadata": {},
     "output_type": "execute_result"
    }
   ],
   "source": [
    "# import libraries\n",
    "import pandas as pd\n",
    "from sqlalchemy import create_engine\n",
    "import numpy as np\n",
    "import nltk\n",
    "from nltk.tokenize import word_tokenize\n",
    "from nltk.stem import WordNetLemmatizer\n",
    "from nltk.corpus import stopwords\n",
    "import re\n",
    "import sklearn\n",
    "from sklearn.model_selection import train_test_split\n",
    "from sklearn.ensemble import RandomForestClassifier\n",
    "from sklearn.pipeline import Pipeline\n",
    "from sklearn.multioutput import MultiOutputClassifier\n",
    "from sklearn.feature_extraction.text import CountVectorizer, TfidfTransformer\n",
    "from sklearn.metrics import classification_report, accuracy_score, fbeta_score, make_scorer\n",
    "from sklearn.model_selection import GridSearchCV\n",
    "from sklearn import preprocessing\n",
    "import pickle\n",
    "\n",
    "nltk.download(['punkt', 'wordnet', 'averaged_perceptron_tagger'])\n",
    "nltk.download('stopwords')"
   ]
  },
  {
   "cell_type": "code",
   "execution_count": 14,
   "metadata": {},
   "outputs": [],
   "source": [
    "# load data from database\n",
    "db = \"InsertDatabaseName.db\"\n",
    "table_name = \"messages\"\n",
    "engine = create_engine('sqlite:///'+db)\n",
    "df = pd.read_sql_table(table_name,engine)\n",
    "X = df['message']\n",
    "Y = df.iloc[:,4:]"
   ]
  },
  {
   "cell_type": "markdown",
   "metadata": {},
   "source": [
    "### 2. Write a tokenization function to process your text data"
   ]
  },
  {
   "cell_type": "code",
   "execution_count": 15,
   "metadata": {},
   "outputs": [],
   "source": [
    "def tokenize(text):\n",
    "    '''This function normalize, tokenize and lematize the text'''\n",
    "    text = re.sub(r\"[^a-zA-Z0-9]\", ' ', text.lower())# Normalize\n",
    "    words = word_tokenize(text)# Tokenize\n",
    "    words = [w for w in words if w not in stopwords.words('english')]  # Remove Stopwords\n",
    "    lemmatizer = WordNetLemmatizer() # Lemmatize\n",
    "    clean = [lemmatizer.lemmatize(w, pos='n').strip() for w in words]\n",
    "    clean = [lemmatizer.lemmatize(w, pos='v').strip() for w in clean]\n",
    "    \n",
    "    return clean"
   ]
  },
  {
   "cell_type": "markdown",
   "metadata": {},
   "source": [
    "### 3. Build a machine learning pipeline\n",
    "This machine pipeline should take in the `message` column as input and output classification results on the other 36 categories in the dataset. You may find the [MultiOutputClassifier](http://scikit-learn.org/stable/modules/generated/sklearn.multioutput.MultiOutputClassifier.html) helpful for predicting multiple target variables."
   ]
  },
  {
   "cell_type": "code",
   "execution_count": 37,
   "metadata": {},
   "outputs": [],
   "source": [
    "pipeline = Pipeline([\n",
    "                    ('vect', CountVectorizer(tokenizer=tokenize)),\n",
    "                    ('tfidf', TfidfTransformer()),\n",
    "                    ('clf', MultiOutputClassifier(RandomForestClassifier(),n_jobs=-1))\n",
    "                    ])"
   ]
  },
  {
   "cell_type": "markdown",
   "metadata": {},
   "source": [
    "### 4. Train pipeline\n",
    "- Split data into train and test sets\n",
    "- Train pipeline"
   ]
  },
  {
   "cell_type": "code",
   "execution_count": 38,
   "metadata": {},
   "outputs": [
    {
     "data": {
      "text/plain": [
       "Pipeline(memory=None,\n",
       "     steps=[('vect', CountVectorizer(analyzer='word', binary=False, decode_error='strict',\n",
       "        dtype=<class 'numpy.int64'>, encoding='utf-8', input='content',\n",
       "        lowercase=True, max_df=1.0, max_features=None, min_df=1,\n",
       "        ngram_range=(1, 1), preprocessor=None, stop_words=None,\n",
       "        strip...ob_score=False, random_state=None, verbose=0,\n",
       "            warm_start=False),\n",
       "           n_jobs=-1))])"
      ]
     },
     "execution_count": 38,
     "metadata": {},
     "output_type": "execute_result"
    }
   ],
   "source": [
    "X_train, X_test, y_train, y_test = train_test_split(X, Y)\n",
    "pipeline.fit(X_train, y_train)"
   ]
  },
  {
   "cell_type": "markdown",
   "metadata": {},
   "source": [
    "### 5. Test your model\n",
    "Report the f1 score, precision and recall for each output category of the dataset. You can do this by iterating through the columns and calling sklearn's `classification_report` on each."
   ]
  },
  {
   "cell_type": "code",
   "execution_count": 39,
   "metadata": {},
   "outputs": [
    {
     "name": "stdout",
     "output_type": "stream",
     "text": [
      "Category: related \n",
      "              precision    recall  f1-score   support\n",
      "\n",
      "          0       0.63      0.46      0.53      1511\n",
      "          1       0.84      0.92      0.88      4994\n",
      "          2       0.42      0.35      0.38        49\n",
      "\n",
      "avg / total       0.79      0.81      0.80      6554\n",
      "\n",
      "Accuracy of                   related: 0.81\n",
      "Category: request \n",
      "              precision    recall  f1-score   support\n",
      "\n",
      "          0       0.90      0.98      0.94      5469\n",
      "          1       0.79      0.46      0.58      1085\n",
      "\n",
      "avg / total       0.88      0.89      0.88      6554\n",
      "\n",
      "Accuracy of                   request: 0.89\n",
      "Category: offer \n",
      "              precision    recall  f1-score   support\n",
      "\n",
      "          0       1.00      1.00      1.00      6528\n",
      "          1       0.00      0.00      0.00        26\n",
      "\n",
      "avg / total       0.99      1.00      0.99      6554\n",
      "\n",
      "Accuracy of                     offer: 1.00\n",
      "Category: aid_related \n",
      "              precision    recall  f1-score   support\n",
      "\n",
      "          0       0.75      0.86      0.80      3828\n",
      "          1       0.75      0.59      0.66      2726\n",
      "\n",
      "avg / total       0.75      0.75      0.74      6554\n",
      "\n",
      "Accuracy of               aid_related: 0.75\n",
      "Category: medical_help \n",
      "              precision    recall  f1-score   support\n",
      "\n",
      "          0       0.93      0.99      0.96      6038\n",
      "          1       0.58      0.10      0.18       516\n",
      "\n",
      "avg / total       0.90      0.92      0.90      6554\n",
      "\n",
      "Accuracy of              medical_help: 0.92\n",
      "Category: medical_products \n",
      "              precision    recall  f1-score   support\n",
      "\n",
      "          0       0.95      1.00      0.98      6229\n",
      "          1       0.74      0.10      0.17       325\n",
      "\n",
      "avg / total       0.94      0.95      0.94      6554\n",
      "\n",
      "Accuracy of          medical_products: 0.95\n",
      "Category: search_and_rescue \n",
      "              precision    recall  f1-score   support\n",
      "\n",
      "          0       0.98      1.00      0.99      6399\n",
      "          1       0.50      0.03      0.06       155\n",
      "\n",
      "avg / total       0.97      0.98      0.97      6554\n",
      "\n",
      "Accuracy of         search_and_rescue: 0.98\n",
      "Category: security \n",
      "              precision    recall  f1-score   support\n",
      "\n",
      "          0       0.98      1.00      0.99      6442\n",
      "          1       0.00      0.00      0.00       112\n",
      "\n",
      "avg / total       0.97      0.98      0.97      6554\n",
      "\n",
      "Accuracy of                  security: 0.98\n",
      "Category: military \n",
      "              precision    recall  f1-score   support\n",
      "\n",
      "          0       0.97      1.00      0.98      6337\n",
      "          1       0.58      0.06      0.12       217\n",
      "\n",
      "avg / total       0.96      0.97      0.95      6554\n",
      "\n",
      "Accuracy of                  military: 0.97\n",
      "Category: child_alone \n",
      "              precision    recall  f1-score   support\n",
      "\n",
      "          0       1.00      1.00      1.00      6554\n",
      "\n",
      "avg / total       1.00      1.00      1.00      6554\n",
      "\n",
      "Accuracy of               child_alone: 1.00\n",
      "Category: water \n",
      "              precision    recall  f1-score   support\n",
      "\n",
      "          0       0.95      1.00      0.97      6120\n",
      "          1       0.81      0.28      0.42       434\n",
      "\n",
      "avg / total       0.94      0.95      0.94      6554\n",
      "\n",
      "Accuracy of                     water: 0.95\n",
      "Category: food \n",
      "              precision    recall  f1-score   support\n",
      "\n",
      "          0       0.94      0.99      0.96      5824\n",
      "          1       0.84      0.50      0.63       730\n",
      "\n",
      "avg / total       0.93      0.93      0.93      6554\n",
      "\n",
      "Accuracy of                      food: 0.93\n",
      "Category: shelter \n",
      "              precision    recall  f1-score   support\n",
      "\n",
      "          0       0.93      1.00      0.96      5965\n",
      "          1       0.87      0.26      0.41       589\n",
      "\n",
      "avg / total       0.93      0.93      0.91      6554\n",
      "\n",
      "Accuracy of                   shelter: 0.93\n",
      "Category: clothing \n",
      "              precision    recall  f1-score   support\n",
      "\n",
      "          0       0.99      1.00      0.99      6466\n",
      "          1       0.75      0.17      0.28        88\n",
      "\n",
      "avg / total       0.99      0.99      0.98      6554\n",
      "\n",
      "Accuracy of                  clothing: 0.99\n",
      "Category: money \n",
      "              precision    recall  f1-score   support\n",
      "\n",
      "          0       0.98      1.00      0.99      6414\n",
      "          1       0.89      0.06      0.11       140\n",
      "\n",
      "avg / total       0.98      0.98      0.97      6554\n",
      "\n",
      "Accuracy of                     money: 0.98\n",
      "Category: missing_people \n",
      "              precision    recall  f1-score   support\n",
      "\n",
      "          0       0.99      1.00      0.99      6474\n",
      "          1       0.00      0.00      0.00        80\n",
      "\n",
      "avg / total       0.98      0.99      0.98      6554\n",
      "\n",
      "Accuracy of            missing_people: 0.99\n",
      "Category: refugees \n",
      "              precision    recall  f1-score   support\n",
      "\n",
      "          0       0.97      1.00      0.98      6333\n",
      "          1       0.59      0.05      0.08       221\n",
      "\n",
      "avg / total       0.95      0.97      0.95      6554\n",
      "\n",
      "Accuracy of                  refugees: 0.97\n",
      "Category: death \n",
      "              precision    recall  f1-score   support\n",
      "\n",
      "          0       0.96      1.00      0.98      6239\n",
      "          1       0.86      0.17      0.29       315\n",
      "\n",
      "avg / total       0.96      0.96      0.95      6554\n",
      "\n",
      "Accuracy of                     death: 0.96\n",
      "Category: other_aid \n",
      "              precision    recall  f1-score   support\n",
      "\n",
      "          0       0.87      0.99      0.92      5654\n",
      "          1       0.41      0.04      0.07       900\n",
      "\n",
      "avg / total       0.80      0.86      0.81      6554\n",
      "\n",
      "Accuracy of                 other_aid: 0.86\n",
      "Category: infrastructure_related \n",
      "              precision    recall  f1-score   support\n",
      "\n",
      "          0       0.94      1.00      0.97      6137\n",
      "          1       0.09      0.00      0.00       417\n",
      "\n",
      "avg / total       0.88      0.94      0.91      6554\n",
      "\n",
      "Accuracy of    infrastructure_related: 0.94\n",
      "Category: transport \n",
      "              precision    recall  f1-score   support\n",
      "\n",
      "          0       0.96      1.00      0.98      6258\n",
      "          1       0.64      0.08      0.14       296\n",
      "\n",
      "avg / total       0.94      0.96      0.94      6554\n",
      "\n",
      "Accuracy of                 transport: 0.96\n",
      "Category: buildings \n",
      "              precision    recall  f1-score   support\n",
      "\n",
      "          0       0.96      1.00      0.98      6255\n",
      "          1       0.78      0.15      0.26       299\n",
      "\n",
      "avg / total       0.95      0.96      0.95      6554\n",
      "\n",
      "Accuracy of                 buildings: 0.96\n",
      "Category: electricity \n",
      "              precision    recall  f1-score   support\n",
      "\n",
      "          0       0.98      1.00      0.99      6428\n",
      "          1       1.00      0.06      0.11       126\n",
      "\n",
      "avg / total       0.98      0.98      0.97      6554\n",
      "\n",
      "Accuracy of               electricity: 0.98\n",
      "Category: tools \n",
      "              precision    recall  f1-score   support\n",
      "\n",
      "          0       0.99      1.00      1.00      6513\n",
      "          1       0.00      0.00      0.00        41\n",
      "\n",
      "avg / total       0.99      0.99      0.99      6554\n",
      "\n",
      "Accuracy of                     tools: 0.99\n",
      "Category: hospitals \n",
      "              precision    recall  f1-score   support\n",
      "\n",
      "          0       0.99      1.00      0.99      6476\n",
      "          1       0.00      0.00      0.00        78\n",
      "\n",
      "avg / total       0.98      0.99      0.98      6554\n",
      "\n",
      "Accuracy of                 hospitals: 0.99\n",
      "Category: shops \n",
      "              precision    recall  f1-score   support\n",
      "\n",
      "          0       1.00      1.00      1.00      6528\n",
      "          1       0.00      0.00      0.00        26\n",
      "\n",
      "avg / total       0.99      1.00      0.99      6554\n",
      "\n",
      "Accuracy of                     shops: 1.00\n",
      "Category: aid_centers \n",
      "              precision    recall  f1-score   support\n",
      "\n",
      "          0       0.99      1.00      0.99      6479\n",
      "          1       0.00      0.00      0.00        75\n",
      "\n",
      "avg / total       0.98      0.99      0.98      6554\n",
      "\n",
      "Accuracy of               aid_centers: 0.99\n",
      "Category: other_infrastructure \n",
      "              precision    recall  f1-score   support\n",
      "\n",
      "          0       0.96      1.00      0.98      6276\n",
      "          1       0.00      0.00      0.00       278\n",
      "\n",
      "avg / total       0.92      0.96      0.94      6554\n",
      "\n",
      "Accuracy of      other_infrastructure: 0.96\n",
      "Category: weather_related \n",
      "              precision    recall  f1-score   support\n",
      "\n",
      "          0       0.86      0.95      0.91      4696\n",
      "          1       0.84      0.61      0.71      1858\n",
      "\n",
      "avg / total       0.85      0.86      0.85      6554\n",
      "\n",
      "Accuracy of           weather_related: 0.86\n",
      "Category: floods \n",
      "              precision    recall  f1-score   support\n",
      "\n",
      "          0       0.95      0.99      0.97      6013\n",
      "          1       0.83      0.36      0.51       541\n",
      "\n",
      "avg / total       0.94      0.94      0.93      6554\n",
      "\n",
      "Accuracy of                    floods: 0.94\n",
      "Category: storm \n",
      "              precision    recall  f1-score   support\n",
      "\n",
      "          0       0.95      0.99      0.97      5934\n",
      "          1       0.78      0.48      0.59       620\n",
      "\n",
      "avg / total       0.93      0.94      0.93      6554\n",
      "\n",
      "Accuracy of                     storm: 0.94\n",
      "Category: fire \n",
      "              precision    recall  f1-score   support\n",
      "\n",
      "          0       0.99      1.00      1.00      6492\n",
      "          1       0.33      0.02      0.03        62\n",
      "\n",
      "avg / total       0.98      0.99      0.99      6554\n",
      "\n",
      "Accuracy of                      fire: 0.99\n",
      "Category: earthquake \n",
      "              precision    recall  f1-score   support\n",
      "\n",
      "          0       0.97      0.99      0.98      5914\n",
      "          1       0.89      0.75      0.81       640\n",
      "\n",
      "avg / total       0.96      0.97      0.96      6554\n",
      "\n",
      "Accuracy of                earthquake: 0.97\n",
      "Category: cold \n",
      "              precision    recall  f1-score   support\n",
      "\n",
      "          0       0.98      1.00      0.99      6414\n",
      "          1       0.75      0.04      0.08       140\n",
      "\n",
      "avg / total       0.97      0.98      0.97      6554\n",
      "\n",
      "Accuracy of                      cold: 0.98\n",
      "Category: other_weather \n",
      "              precision    recall  f1-score   support\n",
      "\n",
      "          0       0.95      1.00      0.97      6201\n",
      "          1       0.63      0.06      0.11       353\n",
      "\n",
      "avg / total       0.93      0.95      0.93      6554\n",
      "\n",
      "Accuracy of             other_weather: 0.95\n",
      "Category: direct_report \n",
      "              precision    recall  f1-score   support\n",
      "\n",
      "          0       0.85      0.98      0.91      5289\n",
      "          1       0.78      0.31      0.44      1265\n",
      "\n",
      "avg / total       0.84      0.85      0.82      6554\n",
      "\n",
      "Accuracy of             direct_report: 0.85\n"
     ]
    },
    {
     "name": "stderr",
     "output_type": "stream",
     "text": [
      "/opt/conda/lib/python3.6/site-packages/sklearn/metrics/classification.py:1135: UndefinedMetricWarning: Precision and F-score are ill-defined and being set to 0.0 in labels with no predicted samples.\n",
      "  'precision', 'predicted', average, warn_for)\n"
     ]
    }
   ],
   "source": [
    "y_pred = pipeline.predict(X_test)\n",
    "# Evaluate\n",
    "category_names = list(df.columns[4:])\n",
    "\n",
    "for i in range(len(category_names)):\n",
    "    print(\"Category:\", category_names[i],\"\\n\", classification_report(y_test.iloc[:, i].values, y_pred[:, i]))\n",
    "    print('Accuracy of %25s: %.2f' %(category_names[i], accuracy_score(y_test.iloc[:, i].values, y_pred[:,i])))"
   ]
  },
  {
   "cell_type": "markdown",
   "metadata": {},
   "source": [
    "### 6. Improve your model\n",
    "Use grid search to find better parameters. "
   ]
  },
  {
   "cell_type": "code",
   "execution_count": 40,
   "metadata": {},
   "outputs": [
    {
     "data": {
      "text/plain": [
       "dict_keys(['memory', 'steps', 'vect', 'tfidf', 'clf', 'vect__analyzer', 'vect__binary', 'vect__decode_error', 'vect__dtype', 'vect__encoding', 'vect__input', 'vect__lowercase', 'vect__max_df', 'vect__max_features', 'vect__min_df', 'vect__ngram_range', 'vect__preprocessor', 'vect__stop_words', 'vect__strip_accents', 'vect__token_pattern', 'vect__tokenizer', 'vect__vocabulary', 'tfidf__norm', 'tfidf__smooth_idf', 'tfidf__sublinear_tf', 'tfidf__use_idf', 'clf__estimator__bootstrap', 'clf__estimator__class_weight', 'clf__estimator__criterion', 'clf__estimator__max_depth', 'clf__estimator__max_features', 'clf__estimator__max_leaf_nodes', 'clf__estimator__min_impurity_decrease', 'clf__estimator__min_impurity_split', 'clf__estimator__min_samples_leaf', 'clf__estimator__min_samples_split', 'clf__estimator__min_weight_fraction_leaf', 'clf__estimator__n_estimators', 'clf__estimator__n_jobs', 'clf__estimator__oob_score', 'clf__estimator__random_state', 'clf__estimator__verbose', 'clf__estimator__warm_start', 'clf__estimator', 'clf__n_jobs'])"
      ]
     },
     "execution_count": 40,
     "metadata": {},
     "output_type": "execute_result"
    }
   ],
   "source": [
    "pipeline.get_params().keys()"
   ]
  },
  {
   "cell_type": "code",
   "execution_count": 43,
   "metadata": {},
   "outputs": [],
   "source": [
    "parameters_grid = {'clf__estimator__min_samples_split': [2, 3, 4],\n",
    "              'clf__estimator__max_depth': [10, 20, 40]}\n",
    "\n",
    "scorer = sklearn.metrics.make_scorer(sklearn.metrics.f1_score, average = 'weighted')\n",
    "cv = GridSearchCV(pipeline, param_grid=parameters_grid, scoring=scorer, n_jobs=-1)\n",
    "\n"
   ]
  },
  {
   "cell_type": "code",
   "execution_count": 44,
   "metadata": {},
   "outputs": [],
   "source": [
    "#cv.fit(X_train, y_train)"
   ]
  },
  {
   "cell_type": "markdown",
   "metadata": {},
   "source": [
    "### 7. Test your model\n",
    "Show the accuracy, precision, and recall of the tuned model.  \n",
    "\n",
    "Since this project focuses on code quality, process, and  pipelines, there is no minimum performance metric needed to pass. However, make sure to fine tune your models for accuracy, precision and recall to make your project stand out - especially for your portfolio!"
   ]
  },
  {
   "cell_type": "markdown",
   "metadata": {},
   "source": [
    "### 8. Try improving your model further. Here are a few ideas:\n",
    "* try other machine learning algorithms\n",
    "* add other features besides the TF-IDF"
   ]
  },
  {
   "cell_type": "code",
   "execution_count": null,
   "metadata": {},
   "outputs": [],
   "source": []
  },
  {
   "cell_type": "markdown",
   "metadata": {},
   "source": [
    "### 9. Export your model as a pickle file"
   ]
  },
  {
   "cell_type": "code",
   "execution_count": 50,
   "metadata": {},
   "outputs": [],
   "source": [
    "filename = 'classifier.pkl'\n",
    "pickle.dump(pipeline, open(filename, 'wb'))"
   ]
  },
  {
   "cell_type": "markdown",
   "metadata": {},
   "source": [
    "### 10. Use this notebook to complete `train.py`\n",
    "Use the template file attached in the Resources folder to write a script that runs the steps above to create a database and export a model based on a new dataset specified by the user."
   ]
  },
  {
   "cell_type": "code",
   "execution_count": null,
   "metadata": {},
   "outputs": [],
   "source": []
  }
 ],
 "metadata": {
  "kernelspec": {
   "display_name": "Python 3",
   "language": "python",
   "name": "python3"
  },
  "language_info": {
   "codemirror_mode": {
    "name": "ipython",
    "version": 3
   },
   "file_extension": ".py",
   "mimetype": "text/x-python",
   "name": "python",
   "nbconvert_exporter": "python",
   "pygments_lexer": "ipython3",
   "version": "3.6.3"
  }
 },
 "nbformat": 4,
 "nbformat_minor": 2
}
